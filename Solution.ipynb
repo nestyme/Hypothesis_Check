{
 "cells": [
  {
   "cell_type": "markdown",
   "metadata": {},
   "source": [
    "\n",
    "Имеется файл log.txt размером 1Tb, содержащий в себе лог в следующем формате: номер записи, тип запроса, время отклика. \n",
    "\n",
    "Пример начала лога:\n",
    "1,/index,0.06\n",
    "2,/test,0.03\n",
    "3,/home,0.561\n",
    "4,/home,0.87\n",
    "5,/index,1.02\n",
    "Напишите программу на Python 2, которая для каждого типа запроса подсчитывает среднее время отклика и 95% доверительный интервал для этой величины. Реализуйте также проверку гипотезы о равенстве средних времен отклика для типов запроса /index и /test на уровне значимости 5%. Приложите ссылку на код на любом из удобных для вас ресурсов.\n"
   ]
  },
  {
   "cell_type": "code",
   "execution_count": 1,
   "metadata": {},
   "outputs": [],
   "source": [
    "import pandas as pd\n",
    "import numpy as np\n",
    "import scipy as sp\n",
    "import scipy.stats as st"
   ]
  },
  {
   "cell_type": "markdown",
   "metadata": {},
   "source": [
    "## Предобработка данных\n",
    "Прочитаем файл и распарсим его при помощи сепаратора"
   ]
  },
  {
   "cell_type": "code",
   "execution_count": 3,
   "metadata": {},
   "outputs": [
    {
     "name": "stdout",
     "output_type": "stream",
     "text": [
      "Int64Index([0, 1, 2], dtype='int64')\n"
     ]
    }
   ],
   "source": [
    "data = pd.read_csv('log.txt', sep=\",\", header=None)"
   ]
  },
  {
   "cell_type": "markdown",
   "metadata": {},
   "source": [
    "Назовем столбцы и удалим лишний, дублирующий индексацию"
   ]
  },
  {
   "cell_type": "code",
   "execution_count": 4,
   "metadata": {},
   "outputs": [],
   "source": [
    "data.columns=['Number','Request Type','Response time']"
   ]
  },
  {
   "cell_type": "code",
   "execution_count": 5,
   "metadata": {
    "scrolled": true
   },
   "outputs": [],
   "source": [
    "data['Number'] = data.index"
   ]
  },
  {
   "cell_type": "markdown",
   "metadata": {},
   "source": [
    "Какие запросы бывают? Узнаем это и запишем в массив `data_Type`"
   ]
  },
  {
   "cell_type": "code",
   "execution_count": 6,
   "metadata": {},
   "outputs": [
    {
     "name": "stdout",
     "output_type": "stream",
     "text": [
      "<class 'numpy.ndarray'>\n",
      "Различные типы запросов: ['/index' '/test' '/home']\n"
     ]
    }
   ],
   "source": [
    "data_Type = data['Request Type'].unique()\n",
    "print 'Различные типы запросов:',data_Type"
   ]
  },
  {
   "cell_type": "markdown",
   "metadata": {},
   "source": [
    "Выведем **средние времена отклика** для каждого  типа запроса, предварительно сгруппировав по названиям запросов"
   ]
  },
  {
   "cell_type": "code",
   "execution_count": 7,
   "metadata": {},
   "outputs": [],
   "source": [
    "average_request_time=data.groupby(['Request Type']).mean().drop(['Number'],axis=1)"
   ]
  },
  {
   "cell_type": "code",
   "execution_count": 8,
   "metadata": {
    "scrolled": false
   },
   "outputs": [
    {
     "data": {
      "text/plain": [
       "Request Type\n",
       "/home     0.7155\n",
       "/index    0.5400\n",
       "/test     0.0375\n",
       "Name: Response time, dtype: float64"
      ]
     },
     "execution_count": 8,
     "metadata": {},
     "output_type": "execute_result"
    }
   ],
   "source": [
    "average_request_time['Response time']"
   ]
  },
  {
   "cell_type": "markdown",
   "metadata": {},
   "source": [
    "Отсортируем по типу запросов. Заведем словарь с кластеризацией по типам данных"
   ]
  },
  {
   "cell_type": "code",
   "execution_count": 9,
   "metadata": {},
   "outputs": [
    {
     "name": "stdout",
     "output_type": "stream",
     "text": [
      "Index(['Number', 'Request Type', 'Response time'], dtype='object')\n"
     ]
    }
   ],
   "source": [
    "print(data.columns)\n",
    "#data = data.drop(['Number'],axis=1)\n",
    "data_index = data.index\n",
    "data=data.sort_values(by='Request Type',ascending=False)\n",
    "data.index = [i for i in range(len(data))]\n",
    "data_Type= np.sort(data_Type)\n",
    "data_Type = data_Type[::-1]"
   ]
  },
  {
   "cell_type": "code",
   "execution_count": 10,
   "metadata": {
    "scrolled": true
   },
   "outputs": [
    {
     "data": {
      "text/html": [
       "<div>\n",
       "<style scoped>\n",
       "    .dataframe tbody tr th:only-of-type {\n",
       "        vertical-align: middle;\n",
       "    }\n",
       "\n",
       "    .dataframe tbody tr th {\n",
       "        vertical-align: top;\n",
       "    }\n",
       "\n",
       "    .dataframe thead th {\n",
       "        text-align: right;\n",
       "    }\n",
       "</style>\n",
       "<table border=\"1\" class=\"dataframe\">\n",
       "  <thead>\n",
       "    <tr style=\"text-align: right;\">\n",
       "      <th></th>\n",
       "      <th>Number</th>\n",
       "      <th>Request Type</th>\n",
       "      <th>Response time</th>\n",
       "    </tr>\n",
       "  </thead>\n",
       "  <tbody>\n",
       "    <tr>\n",
       "      <th>0</th>\n",
       "      <td>1</td>\n",
       "      <td>/test</td>\n",
       "      <td>0.030</td>\n",
       "    </tr>\n",
       "    <tr>\n",
       "      <th>1</th>\n",
       "      <td>5</td>\n",
       "      <td>/test</td>\n",
       "      <td>0.045</td>\n",
       "    </tr>\n",
       "    <tr>\n",
       "      <th>2</th>\n",
       "      <td>0</td>\n",
       "      <td>/index</td>\n",
       "      <td>0.060</td>\n",
       "    </tr>\n",
       "    <tr>\n",
       "      <th>3</th>\n",
       "      <td>4</td>\n",
       "      <td>/index</td>\n",
       "      <td>1.020</td>\n",
       "    </tr>\n",
       "    <tr>\n",
       "      <th>4</th>\n",
       "      <td>2</td>\n",
       "      <td>/home</td>\n",
       "      <td>0.561</td>\n",
       "    </tr>\n",
       "    <tr>\n",
       "      <th>5</th>\n",
       "      <td>3</td>\n",
       "      <td>/home</td>\n",
       "      <td>0.870</td>\n",
       "    </tr>\n",
       "  </tbody>\n",
       "</table>\n",
       "</div>"
      ],
      "text/plain": [
       "   Number Request Type  Response time\n",
       "0       1        /test          0.030\n",
       "1       5        /test          0.045\n",
       "2       0       /index          0.060\n",
       "3       4       /index          1.020\n",
       "4       2        /home          0.561\n",
       "5       3        /home          0.870"
      ]
     },
     "execution_count": 10,
     "metadata": {},
     "output_type": "execute_result"
    }
   ],
   "source": [
    "data"
   ]
  },
  {
   "cell_type": "code",
   "execution_count": 11,
   "metadata": {},
   "outputs": [
    {
     "data": {
      "text/plain": [
       "array(['/test', '/index', '/home'], dtype=object)"
      ]
     },
     "execution_count": 11,
     "metadata": {},
     "output_type": "execute_result"
    }
   ],
   "source": [
    "data_Type"
   ]
  },
  {
   "cell_type": "code",
   "execution_count": 12,
   "metadata": {},
   "outputs": [
    {
     "name": "stdout",
     "output_type": "stream",
     "text": [
      "{'/home': [], '/test': [], '/index': []}\n"
     ]
    }
   ],
   "source": [
    "d = dict.fromkeys(data_Type,[])"
   ]
  },
  {
   "cell_type": "markdown",
   "metadata": {},
   "source": [
    "Так как сейчас массив данных у нас *игрушечный*, то положим в словарь в явном виде значения.\n",
    "Если мы намерены работать с `1 ТБ` данных, то следует использовать функции библиотеки `pandas`. Кроме того, для ускорения вычислений можно использовать параллельные или распределенные системы для вычислений."
   ]
  },
  {
   "cell_type": "code",
   "execution_count": 16,
   "metadata": {},
   "outputs": [],
   "source": [
    "d = {'/test':[0.03,0.045],'/index':[0.06,1.020],'/home':[0.561,0.870]}"
   ]
  },
  {
   "cell_type": "markdown",
   "metadata": {},
   "source": [
    "## Подсчет доверительного интервала\n",
    "найдем 95%-ый доверительный интервал для каждого среднего значения в группах"
   ]
  },
  {
   "cell_type": "code",
   "execution_count": 17,
   "metadata": {},
   "outputs": [],
   "source": [
    "def calculate_confidence_interval (a, percent = 0.95):\n",
    "    return st.t.interval(percent, len(a)-1, loc=np.mean(a), scale=st.sem(a))"
   ]
  },
  {
   "cell_type": "code",
   "execution_count": 18,
   "metadata": {},
   "outputs": [
    {
     "name": "stdout",
     "output_type": "stream",
     "text": [
      "[0.03, 0.045]\n",
      "Доверительный интервал 95% для  /test (-0.05779653552324072, 0.13279653552324072)\n",
      "[0.06, 1.02]\n",
      "Доверительный интервал 95% для  /index (-5.558978273487406, 6.638978273487406)\n",
      "[0.561, 0.87]\n",
      "Доверительный интервал 95% для  /home (-1.2476086317787582, 2.6786086317787583)\n"
     ]
    }
   ],
   "source": [
    "for Type in data_Type:\n",
    "    a = d[Type]\n",
    "    print a\n",
    "    print 'Доверительный интервал 95% для ', Type, calculate_confidence_interval(a)"
   ]
  },
  {
   "cell_type": "markdown",
   "metadata": {},
   "source": [
    "##  Проверка гипотезы \n",
    "о равенстве средних времен отклика для типов запроса `/index` и `/test` на уровне значимости 5%."
   ]
  },
  {
   "cell_type": "markdown",
   "metadata": {},
   "source": [
    "1. Гипотеза $H_0$: время откликов запросов типа `/index` и `/test`  \n",
    "2. Гипотеза $H_1$: альтернатива"
   ]
  },
  {
   "cell_type": "code",
   "execution_count": 19,
   "metadata": {},
   "outputs": [],
   "source": [
    "av_index=average_request_time['Response time']['/index']\n",
    "av_test=average_request_time['Response time']['/test']"
   ]
  },
  {
   "cell_type": "code",
   "execution_count": 20,
   "metadata": {},
   "outputs": [
    {
     "name": "stdout",
     "output_type": "stream",
     "text": [
      "0.54 0.0375\n"
     ]
    }
   ],
   "source": [
    "print av_index,av_test "
   ]
  },
  {
   "cell_type": "code",
   "execution_count": 21,
   "metadata": {},
   "outputs": [
    {
     "data": {
      "text/plain": [
       "[0.03, 0.045]"
      ]
     },
     "execution_count": 21,
     "metadata": {},
     "output_type": "execute_result"
    }
   ],
   "source": [
    "d['/test']"
   ]
  },
  {
   "cell_type": "code",
   "execution_count": 22,
   "metadata": {},
   "outputs": [],
   "source": [
    "def check_hypothesis (test,check,alpha=0.05):\n",
    "    test = st.ttest_1samp(test, check)[1]\n",
    "    if test < alpha:\n",
    "        print 'Гипотеза не отвергается','\\np-value:',test\n",
    "    else:\n",
    "        print 'Гипотеза отвергается','\\np-value:',test"
   ]
  },
  {
   "cell_type": "code",
   "execution_count": 23,
   "metadata": {},
   "outputs": [
    {
     "name": "stdout",
     "output_type": "stream",
     "text": [
      "Гипотеза не отвергается \n",
      "p-value: 0.009501082180741366\n"
     ]
    }
   ],
   "source": [
    "check_hypothesis(d['/test'],av_index)"
   ]
  },
  {
   "cell_type": "code",
   "execution_count": 24,
   "metadata": {},
   "outputs": [
    {
     "name": "stdout",
     "output_type": "stream",
     "text": [
      "Гипотеза отвергается \n",
      "p-value: 0.48542346908328743\n"
     ]
    }
   ],
   "source": [
    "check_hypothesis(d['/index'],av_test)"
   ]
  },
  {
   "cell_type": "markdown",
   "metadata": {},
   "source": [
    "Видим, что в одном случае гипотеза -- отвеграется, а в другом -- нет. В данном случае это говорит лишь о том, что данных катастрофически мало"
   ]
  }
 ],
 "metadata": {
  "anaconda-cloud": {},
  "kernelspec": {
   "display_name": "Python 2",
   "language": "python",
   "name": "python2"
  },
  "language_info": {
   "codemirror_mode": {
    "name": "ipython",
    "version": 3
   },
   "file_extension": ".py",
   "mimetype": "text/x-python",
   "name": "python",
   "nbconvert_exporter": "python",
   "pygments_lexer": "ipython3",
   "version": "3.5.5"
  }
 },
 "nbformat": 4,
 "nbformat_minor": 2
}
